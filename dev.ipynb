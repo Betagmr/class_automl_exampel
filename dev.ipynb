{
 "cells": [
  {
   "cell_type": "code",
   "execution_count": 1,
   "metadata": {},
   "outputs": [],
   "source": [
    "from src.components.data.process_data import process_data\n",
    "from src.components.data.read_dataset import read_dataset"
   ]
  },
  {
   "cell_type": "code",
   "execution_count": 2,
   "metadata": {},
   "outputs": [
    {
     "name": "stderr",
     "output_type": "stream",
     "text": [
      "2024-02-08 12:25:15.343414: I external/local_tsl/tsl/cuda/cudart_stub.cc:31] Could not find cuda drivers on your machine, GPU will not be used.\n",
      "2024-02-08 12:25:15.538586: E external/local_xla/xla/stream_executor/cuda/cuda_dnn.cc:9261] Unable to register cuDNN factory: Attempting to register factory for plugin cuDNN when one has already been registered\n",
      "2024-02-08 12:25:15.538675: E external/local_xla/xla/stream_executor/cuda/cuda_fft.cc:607] Unable to register cuFFT factory: Attempting to register factory for plugin cuFFT when one has already been registered\n",
      "2024-02-08 12:25:15.561065: E external/local_xla/xla/stream_executor/cuda/cuda_blas.cc:1515] Unable to register cuBLAS factory: Attempting to register factory for plugin cuBLAS when one has already been registered\n",
      "2024-02-08 12:25:15.622981: I external/local_tsl/tsl/cuda/cudart_stub.cc:31] Could not find cuda drivers on your machine, GPU will not be used.\n",
      "2024-02-08 12:25:15.624309: I tensorflow/core/platform/cpu_feature_guard.cc:182] This TensorFlow binary is optimized to use available CPU instructions in performance-critical operations.\n",
      "To enable the following instructions: AVX2 FMA, in other operations, rebuild TensorFlow with the appropriate compiler flags.\n",
      "2024-02-08 12:25:16.919469: W tensorflow/compiler/tf2tensorrt/utils/py_utils.cc:38] TF-TRT Warning: Could not find TensorRT\n"
     ]
    }
   ],
   "source": [
    "from keras import Sequential\n",
    "from keras.layers import Dense, Input\n",
    "from keras.optimizers import Adam\n",
    "\n",
    "\n",
    "def create_model(input_shape, output_size):\n",
    "    model = Sequential(\n",
    "        [\n",
    "            Input(shape=input_shape),\n",
    "            Dense(64, activation=\"relu\"),\n",
    "            Dense(32, activation=\"relu\"),\n",
    "            Dense(output_size, activation=\"softmax\"),\n",
    "        ]\n",
    "    )\n",
    "\n",
    "    model.compile(\n",
    "        optimizer=Adam(learning_rate=0.01),\n",
    "        loss=\"categorical_crossentropy\",  # Cambiar la función de pérdida según tu problema\n",
    "        metrics=[\"accuracy\"],\n",
    "    )\n",
    "\n",
    "    return model"
   ]
  },
  {
   "cell_type": "code",
   "execution_count": 3,
   "metadata": {},
   "outputs": [
    {
     "name": "stderr",
     "output_type": "stream",
     "text": [
      "2024-02-08 12:25:21.690347: I external/local_xla/xla/stream_executor/cuda/cuda_executor.cc:901] successful NUMA node read from SysFS had negative value (-1), but there must be at least one NUMA node, so returning NUMA node zero. See more at https://github.com/torvalds/linux/blob/v6.0/Documentation/ABI/testing/sysfs-bus-pci#L344-L355\n",
      "2024-02-08 12:25:21.690960: W tensorflow/core/common_runtime/gpu/gpu_device.cc:2256] Cannot dlopen some GPU libraries. Please make sure the missing libraries mentioned above are installed properly if you would like to use GPU. Follow the guide at https://www.tensorflow.org/install/gpu for how to download and setup the required libraries for your platform.\n",
      "Skipping registering GPU devices...\n"
     ]
    }
   ],
   "source": [
    "import tensorflow as tf\n",
    "from sklearn.preprocessing import MinMaxScaler\n",
    "\n",
    "dataset = read_dataset(\"time_series_60min_singleindex.csv\")\n",
    "x_data, y_data = process_data(dataset)\n",
    "\n",
    "# Normalizar los datos\n",
    "x_data = MinMaxScaler().fit_transform(x_data)\n",
    "y_temp = tf.one_hot(y_data, max(y_data) + 1).numpy()\n",
    "\n",
    "# Crear el modelo\n",
    "input_shape = x_data.shape[1:]\n",
    "output_size = 4\n",
    "model = create_model(input_shape, output_size)"
   ]
  },
  {
   "cell_type": "code",
   "execution_count": 331,
   "metadata": {},
   "outputs": [],
   "source": [
    "res = model.fit(\n",
    "    x_data,\n",
    "    y_temp,\n",
    "    epochs=10,\n",
    "    verbose=0,\n",
    ")"
   ]
  },
  {
   "cell_type": "code",
   "execution_count": 336,
   "metadata": {},
   "outputs": [],
   "source": [
    "loss = res.history[\"loss\"]"
   ]
  },
  {
   "cell_type": "code",
   "execution_count": null,
   "metadata": {},
   "outputs": [],
   "source": [
    "result = model.evaluate(x_data, y_data)"
   ]
  },
  {
   "cell_type": "code",
   "execution_count": 4,
   "metadata": {},
   "outputs": [],
   "source": [
    "import numpy as np\n",
    "from sklearn.preprocessing import OneHotEncoder\n",
    "\n",
    "\n",
    "def label_to_one_hot(array, depth=4):\n",
    "    return tf.one_hot(array, depth).numpy()\n",
    "\n",
    "\n",
    "def one_hot_to_label(array):\n",
    "    return np.argmax(array, axis=1)"
   ]
  },
  {
   "cell_type": "code",
   "execution_count": 5,
   "metadata": {},
   "outputs": [],
   "source": [
    "from lightgbm import LGBMClassifier\n",
    "from sklearn.metrics import accuracy_score, f1_score, roc_auc_score, zero_one_loss\n",
    "from sklearn.neighbors import KNeighborsClassifier\n",
    "from sklearn.ensemble import RandomForestClassifier\n",
    "from xgboost import XGBClassifier\n",
    "\n",
    "\n",
    "arch = [\n",
    "    (  # Sequential model\n",
    "        create_model,\n",
    "        {\n",
    "            \"name\": \"Keras Sequential 1\",\n",
    "            \"init_args\": {\"input_shape\": input_shape, \"output_size\": output_size},\n",
    "            \"fit_args\": {\"epochs\": 10, \"verbose\": 0},\n",
    "            \"predict_args\": {\"verbose\": 0},\n",
    "            \"y_pre\": label_to_one_hot,\n",
    "            \"y_post\": one_hot_to_label,\n",
    "        },\n",
    "    ),\n",
    "    (\n",
    "        create_model,\n",
    "        {\n",
    "            \"name\": \"Keras Sequential 2\",\n",
    "            \"init_args\": {\"input_shape\": input_shape, \"output_size\": output_size},\n",
    "            \"fit_args\": {\"epochs\": 20, \"verbose\": 0},\n",
    "            \"predict_args\": {\"verbose\": 0},\n",
    "            \"y_pre\": label_to_one_hot,\n",
    "            \"y_post\": one_hot_to_label,\n",
    "        },\n",
    "    ),\n",
    "    # (\n",
    "    #     XGBClassifier,\n",
    "    #     {\n",
    "    #         \"init_args\": {\n",
    "    #             \"n_estimators\": 1000,\n",
    "    #             # \"early_stopping_rounds\": 50,\n",
    "    #             \"learning_rate\": 0.01,\n",
    "    #             \"colsample_bytree\": 0.8,\n",
    "    #             \"max_depth\": 7,\n",
    "    #         },\n",
    "    #     },\n",
    "    # ),\n",
    "    (LGBMClassifier, {\"init_args\": {\"n_estimators\": 1000, \"verbose\": -1}}),\n",
    "    (KNeighborsClassifier, {\"init_args\": {\"n_neighbors\": 5, \"weights\": \"uniform\"}}),\n",
    "    (RandomForestClassifier, {\"init_args\": {\"max_depth\": 4, \"random_state\": 0}}),\n",
    "]\n",
    "\n",
    "metrics = [\n",
    "    # (roc_auc_score, {\"name\": \"auc\", \"args\": {\"multi_class\": \"ovr\"}}),\n",
    "    (zero_one_loss, {\"name\": \"loss\"}),\n",
    "    (accuracy_score, {\"name\": \"acc\"}),\n",
    "    (f1_score, {\"name\": \"f1\", \"args\": {\"average\": \"weighted\"}}),\n",
    "]"
   ]
  },
  {
   "cell_type": "code",
   "execution_count": 13,
   "metadata": {},
   "outputs": [],
   "source": [
    "import pandas as pd\n",
    "from sklearn.model_selection import StratifiedKFold\n",
    "from tqdm import tqdm\n",
    "\n",
    "from automl.automl import _calculate_metrics, _get_split_data\n",
    "\n",
    "\n",
    "def auto_ml(x_data, y_data, arch, metrics, cv=5):\n",
    "    kfs = StratifiedKFold(n_splits=cv - 1, shuffle=True, random_state=42)\n",
    "    split_indexes = list(kfs.split(x_data, y_data))\n",
    "\n",
    "    models = []\n",
    "    models_results = []\n",
    "    for model_init, args in arch:\n",
    "        model_name = args.get(\"name\", model_init.__name__)\n",
    "        y_test_list = []\n",
    "        y_predict_list = []\n",
    "        print(\"Running model:\", model_name)\n",
    "\n",
    "        for x_train, x_test, y_train, y_test in tqdm(\n",
    "            _get_split_data(x_data, y_data, split_indexes, args), total=cv - 1\n",
    "        ):\n",
    "            # Train the model\n",
    "            model = model_init(**args.get(\"init_args\", {}))\n",
    "            model.fit(x_train, y_train, **args.get(\"fit_args\", {}))\n",
    "\n",
    "            # Make predictions\n",
    "            predictions = model.predict(x_test, **args.get(\"predict_args\", {}))\n",
    "            y_predict_list.append(args.get(\"y_post\", lambda y: y)(predictions))\n",
    "            y_test_list.append(y_test)\n",
    "\n",
    "        model_metrics = _calculate_metrics(\n",
    "            np.concatenate(y_test_list),\n",
    "            np.concatenate(y_predict_list),\n",
    "            metrics,\n",
    "        )\n",
    "        model_info = {\"model\": model_name} | model_metrics\n",
    "        print(model_info, \"\\n\")\n",
    "\n",
    "        # Add results to the list\n",
    "        models.append(model)\n",
    "        models_results.append(model_info)\n",
    "\n",
    "    return pd.DataFrame(models_results)"
   ]
  },
  {
   "cell_type": "code",
   "execution_count": 14,
   "metadata": {},
   "outputs": [
    {
     "name": "stdout",
     "output_type": "stream",
     "text": [
      "Running model: Keras Sequential 1\n"
     ]
    },
    {
     "name": "stderr",
     "output_type": "stream",
     "text": [
      "100%|██████████| 4/4 [00:04<00:00,  1.16s/it]\n"
     ]
    },
    {
     "name": "stdout",
     "output_type": "stream",
     "text": [
      "{'model': 'Keras Sequential 1', 'loss': 0.5080405002977963, 'acc': 0.4919594997022037, 'f1': 0.512385644388086} \n",
      "\n",
      "Running model: Keras Sequential 2\n"
     ]
    },
    {
     "name": "stderr",
     "output_type": "stream",
     "text": [
      "100%|██████████| 4/4 [00:06<00:00,  1.51s/it]\n"
     ]
    },
    {
     "name": "stdout",
     "output_type": "stream",
     "text": [
      "{'model': 'Keras Sequential 2', 'loss': 0.490172721858249, 'acc': 0.509827278141751, 'f1': 0.5227301992828707} \n",
      "\n",
      "Running model: LGBMClassifier\n"
     ]
    },
    {
     "name": "stderr",
     "output_type": "stream",
     "text": [
      "100%|██████████| 4/4 [00:07<00:00,  1.86s/it]\n"
     ]
    },
    {
     "name": "stdout",
     "output_type": "stream",
     "text": [
      "{'model': 'LGBMClassifier', 'loss': 0.32757593805836804, 'acc': 0.672424061941632, 'f1': 0.6729635178447443} \n",
      "\n",
      "Running model: KNeighborsClassifier\n"
     ]
    },
    {
     "name": "stderr",
     "output_type": "stream",
     "text": [
      "100%|██████████| 4/4 [00:00<00:00, 296.78it/s]\n"
     ]
    },
    {
     "name": "stdout",
     "output_type": "stream",
     "text": [
      "{'model': 'KNeighborsClassifier', 'loss': 0.3692674210839786, 'acc': 0.6307325789160214, 'f1': 0.6333632281559901} \n",
      "\n",
      "Running model: RandomForestClassifier\n"
     ]
    },
    {
     "name": "stderr",
     "output_type": "stream",
     "text": [
      "100%|██████████| 4/4 [00:01<00:00,  3.41it/s]"
     ]
    },
    {
     "name": "stdout",
     "output_type": "stream",
     "text": [
      "{'model': 'RandomForestClassifier', 'loss': 0.4782608695652174, 'acc': 0.5217391304347826, 'f1': 0.5237229781255656} \n",
      "\n"
     ]
    },
    {
     "name": "stderr",
     "output_type": "stream",
     "text": [
      "\n"
     ]
    },
    {
     "data": {
      "text/html": [
       "<div>\n",
       "<style scoped>\n",
       "    .dataframe tbody tr th:only-of-type {\n",
       "        vertical-align: middle;\n",
       "    }\n",
       "\n",
       "    .dataframe tbody tr th {\n",
       "        vertical-align: top;\n",
       "    }\n",
       "\n",
       "    .dataframe thead th {\n",
       "        text-align: right;\n",
       "    }\n",
       "</style>\n",
       "<table border=\"1\" class=\"dataframe\">\n",
       "  <thead>\n",
       "    <tr style=\"text-align: right;\">\n",
       "      <th></th>\n",
       "      <th>model</th>\n",
       "      <th>loss</th>\n",
       "      <th>acc</th>\n",
       "      <th>f1</th>\n",
       "    </tr>\n",
       "  </thead>\n",
       "  <tbody>\n",
       "    <tr>\n",
       "      <th>2</th>\n",
       "      <td>LGBMClassifier</td>\n",
       "      <td>0.327576</td>\n",
       "      <td>0.672424</td>\n",
       "      <td>0.672964</td>\n",
       "    </tr>\n",
       "    <tr>\n",
       "      <th>3</th>\n",
       "      <td>KNeighborsClassifier</td>\n",
       "      <td>0.369267</td>\n",
       "      <td>0.630733</td>\n",
       "      <td>0.633363</td>\n",
       "    </tr>\n",
       "    <tr>\n",
       "      <th>4</th>\n",
       "      <td>RandomForestClassifier</td>\n",
       "      <td>0.478261</td>\n",
       "      <td>0.521739</td>\n",
       "      <td>0.523723</td>\n",
       "    </tr>\n",
       "    <tr>\n",
       "      <th>1</th>\n",
       "      <td>Keras Sequential 2</td>\n",
       "      <td>0.490173</td>\n",
       "      <td>0.509827</td>\n",
       "      <td>0.522730</td>\n",
       "    </tr>\n",
       "    <tr>\n",
       "      <th>0</th>\n",
       "      <td>Keras Sequential 1</td>\n",
       "      <td>0.508041</td>\n",
       "      <td>0.491959</td>\n",
       "      <td>0.512386</td>\n",
       "    </tr>\n",
       "  </tbody>\n",
       "</table>\n",
       "</div>"
      ],
      "text/plain": [
       "                    model      loss       acc        f1\n",
       "2          LGBMClassifier  0.327576  0.672424  0.672964\n",
       "3    KNeighborsClassifier  0.369267  0.630733  0.633363\n",
       "4  RandomForestClassifier  0.478261  0.521739  0.523723\n",
       "1      Keras Sequential 2  0.490173  0.509827  0.522730\n",
       "0      Keras Sequential 1  0.508041  0.491959  0.512386"
      ]
     },
     "execution_count": 14,
     "metadata": {},
     "output_type": "execute_result"
    }
   ],
   "source": [
    "auto_ml(x_data, y_data, arch, metrics).sort_values(\"acc\", ascending=False)"
   ]
  }
 ],
 "metadata": {
  "kernelspec": {
   "display_name": "time-series-classification-oAykqAIC-py3.11",
   "language": "python",
   "name": "python3"
  },
  "language_info": {
   "codemirror_mode": {
    "name": "ipython",
    "version": 3
   },
   "file_extension": ".py",
   "mimetype": "text/x-python",
   "name": "python",
   "nbconvert_exporter": "python",
   "pygments_lexer": "ipython3",
   "version": "3.11.4"
  }
 },
 "nbformat": 4,
 "nbformat_minor": 2
}
